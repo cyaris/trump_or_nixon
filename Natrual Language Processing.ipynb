{
 "cells": [
  {
   "cell_type": "code",
   "execution_count": 1,
   "metadata": {},
   "outputs": [],
   "source": [
    "import pandas as pd\n",
    "import numpy as np"
   ]
  },
  {
   "cell_type": "code",
   "execution_count": 2,
   "metadata": {},
   "outputs": [],
   "source": [
    "df = pd.read_csv('trump_lies_clean.csv', index_col = 0)\n",
    "df.drop(['explanation', 'date'],axis = 1, inplace = True)\n",
    "df['president'] = 'Trump'"
   ]
  },
  {
   "cell_type": "code",
   "execution_count": 3,
   "metadata": {},
   "outputs": [],
   "source": [
    "df2 = pd.read_csv('nixon_quotes_clean.csv', index_col = 0)\n",
    "df2.drop('explanation', axis = 1, inplace = True)\n",
    "df2['president'] = 'Nixon'\n",
    "df = df.append(df2, ignore_index = True)"
   ]
  },
  {
   "cell_type": "code",
   "execution_count": 4,
   "metadata": {},
   "outputs": [],
   "source": [
    "import string\n",
    "from nltk.corpus import stopwords\n",
    "from sklearn.feature_extraction.text import CountVectorizer"
   ]
  },
  {
   "cell_type": "code",
   "execution_count": 5,
   "metadata": {},
   "outputs": [],
   "source": [
    "string.punctuation = string.punctuation + '—'"
   ]
  },
  {
   "cell_type": "code",
   "execution_count": 6,
   "metadata": {},
   "outputs": [],
   "source": [
    "def text_process(original):\n",
    "    no_punctuation = [char for char in original \n",
    "                      if char not in string.punctuation]\n",
    "    no_punctuation = ''.join(no_punctuation)\n",
    "    return [word for word in no_punctuation.split() \n",
    "            if word.lower() not in stopwords.words('english')]"
   ]
  },
  {
   "cell_type": "code",
   "execution_count": 7,
   "metadata": {},
   "outputs": [
    {
     "name": "stdout",
     "output_type": "stream",
     "text": [
      "1074\n",
      "\n",
      "\n",
      "Now, the audience was the biggest ever. But this crowd was massive. Look how far back it goes. This crowd was massive. (Official aerial photos show Obama's 2009 inauguration was much more heavily attended.)\n"
     ]
    }
   ],
   "source": [
    "bow_transformer = CountVectorizer(analyzer = text_process).fit(df['quote'])\n",
    "print(len(bow_transformer.vocabulary_))\n",
    "print(\"\\n\")\n",
    "print(df['quote'][3])"
   ]
  },
  {
   "cell_type": "code",
   "execution_count": 8,
   "metadata": {},
   "outputs": [
    {
     "name": "stdout",
     "output_type": "stream",
     "text": [
      "  (0, 13)\t1\n",
      "  (0, 137)\t1\n",
      "  (0, 159)\t1\n",
      "  (0, 161)\t1\n",
      "  (0, 244)\t1\n",
      "  (0, 286)\t1\n",
      "  (0, 287)\t1\n",
      "  (0, 290)\t1\n",
      "  (0, 312)\t1\n",
      "  (0, 405)\t2\n",
      "  (0, 473)\t1\n",
      "  (0, 494)\t1\n",
      "  (0, 533)\t1\n",
      "  (0, 562)\t1\n",
      "  (0, 590)\t1\n",
      "  (0, 679)\t2\n",
      "  (0, 705)\t1\n",
      "  (0, 773)\t1\n",
      "  (0, 897)\t1\n",
      "(1, 1074)\n"
     ]
    }
   ],
   "source": [
    "quote_4 = df['quote'][3]\n",
    "bow4 = bow_transformer.transform([quote_4])\n",
    "print(bow4)\n",
    "print(bow4.shape)"
   ]
  },
  {
   "cell_type": "code",
   "execution_count": 9,
   "metadata": {},
   "outputs": [
    {
     "name": "stdout",
     "output_type": "stream",
     "text": [
      "['2014', '2016', '2020', '2500', '3', '306', '325000', '350', '47', '48', '5', '55', '600', '60000', '7', '70', '700', '725', '746', '81', '84', '90', '90s', 'AMERICA', 'Administration', 'Amendment', 'American', 'Americans', 'Aristotle', 'Bad', 'Ban', 'Bannon', 'Barack', 'Big', 'Bill', 'Blow', 'Blumenthal', 'Bob', 'Break', 'Bush', 'Cabinet', 'Canada', 'Catholic', 'Chicago', 'China', 'Chris', 'Christ', 'Church', 'Clapper', 'Clinton', 'Colberts', 'College', 'Congress', 'Could', 'CubanAmericans', 'Cuomo', 'Cuomos', 'Defense', 'Delta', 'Deltas', 'Democrat', 'Democrats']\n"
     ]
    }
   ],
   "source": [
    "print(bow_transformer.get_feature_names()[16:78])"
   ]
  },
  {
   "cell_type": "code",
   "execution_count": 10,
   "metadata": {},
   "outputs": [
    {
     "name": "stdout",
     "output_type": "stream",
     "text": [
      "Shape of Sparse Matrix:  (136, 1074)\n",
      "Amount of Non-Zero occurences:  1902\n"
     ]
    }
   ],
   "source": [
    "quote_bow = bow_transformer.transform(df['quote'])\n",
    "print('Shape of Sparse Matrix: ', quote_bow.shape)\n",
    "print('Amount of Non-Zero occurences: ', quote_bow.nnz)"
   ]
  },
  {
   "cell_type": "code",
   "execution_count": 11,
   "metadata": {},
   "outputs": [
    {
     "name": "stdout",
     "output_type": "stream",
     "text": [
      "sparsity: 1\n"
     ]
    }
   ],
   "source": [
    "sparsity = (100.0 * quote_bow.nnz / (quote_bow.shape[0] * quote_bow.shape[1]))\n",
    "print('sparsity: {}'.format(round(sparsity)))"
   ]
  },
  {
   "cell_type": "code",
   "execution_count": 12,
   "metadata": {},
   "outputs": [],
   "source": [
    "from sklearn.feature_extraction.text import TfidfTransformer"
   ]
  },
  {
   "cell_type": "code",
   "execution_count": 13,
   "metadata": {},
   "outputs": [
    {
     "name": "stdout",
     "output_type": "stream",
     "text": [
      "  (0, 897)\t0.17319006342931575\n",
      "  (0, 773)\t0.2100050191042455\n",
      "  (0, 705)\t0.2100050191042455\n",
      "  (0, 679)\t0.3643111604596727\n",
      "  (0, 590)\t0.2100050191042455\n",
      "  (0, 562)\t0.2100050191042455\n",
      "  (0, 533)\t0.17319006342931575\n",
      "  (0, 494)\t0.19371414169659013\n",
      "  (0, 473)\t0.19371414169659013\n",
      "  (0, 405)\t0.420010038208491\n",
      "  (0, 312)\t0.19371414169659013\n",
      "  (0, 290)\t0.18215558022983636\n",
      "  (0, 287)\t0.2100050191042455\n",
      "  (0, 286)\t0.2100050191042455\n",
      "  (0, 244)\t0.2100050191042455\n",
      "  (0, 161)\t0.2100050191042455\n",
      "  (0, 159)\t0.2100050191042455\n",
      "  (0, 137)\t0.2100050191042455\n",
      "  (0, 13)\t0.2100050191042455\n"
     ]
    }
   ],
   "source": [
    "tfidf_transformer = TfidfTransformer().fit(quote_bow)\n",
    "tfidf4 = tfidf_transformer.transform(bow4)\n",
    "print(tfidf4)"
   ]
  },
  {
   "cell_type": "code",
   "execution_count": 14,
   "metadata": {},
   "outputs": [
    {
     "name": "stdout",
     "output_type": "stream",
     "text": [
      "4.12822145660007\n",
      "5.22683374526818\n"
     ]
    }
   ],
   "source": [
    "print(tfidf_transformer.idf_[bow_transformer.vocabulary_['Obama']])\n",
    "print(tfidf_transformer.idf_[bow_transformer.vocabulary_['Paris']])"
   ]
  },
  {
   "cell_type": "code",
   "execution_count": 15,
   "metadata": {},
   "outputs": [
    {
     "name": "stdout",
     "output_type": "stream",
     "text": [
      "(136, 1074)\n"
     ]
    }
   ],
   "source": [
    "quote_tfidf = tfidf_transformer.transform(quote_bow)\n",
    "print(quote_tfidf.shape)"
   ]
  },
  {
   "cell_type": "code",
   "execution_count": 16,
   "metadata": {},
   "outputs": [],
   "source": [
    "from sklearn.naive_bayes import MultinomialNB"
   ]
  },
  {
   "cell_type": "code",
   "execution_count": 17,
   "metadata": {},
   "outputs": [],
   "source": [
    "trump_detect_model = MultinomialNB().fit(quote_tfidf, df['president'])"
   ]
  },
  {
   "cell_type": "code",
   "execution_count": 18,
   "metadata": {},
   "outputs": [
    {
     "name": "stdout",
     "output_type": "stream",
     "text": [
      "predicted: Trump\n",
      "expected: Trump\n"
     ]
    }
   ],
   "source": [
    "print('predicted:', trump_detect_model.predict(tfidf4)[0])\n",
    "print('expected:', df.president[3])"
   ]
  },
  {
   "cell_type": "code",
   "execution_count": 19,
   "metadata": {},
   "outputs": [
    {
     "name": "stdout",
     "output_type": "stream",
     "text": [
      "['Trump' 'Trump' 'Trump' 'Trump' 'Trump' 'Trump' 'Trump' 'Trump' 'Trump'\n",
      " 'Trump' 'Trump' 'Trump' 'Trump' 'Trump' 'Trump' 'Trump' 'Trump' 'Trump'\n",
      " 'Trump' 'Trump' 'Trump' 'Trump' 'Trump' 'Trump' 'Trump' 'Trump' 'Trump'\n",
      " 'Trump' 'Trump' 'Trump' 'Trump' 'Trump' 'Trump' 'Trump' 'Trump' 'Trump'\n",
      " 'Trump' 'Trump' 'Trump' 'Trump' 'Trump' 'Trump' 'Trump' 'Trump' 'Trump'\n",
      " 'Trump' 'Trump' 'Trump' 'Trump' 'Trump' 'Trump' 'Trump' 'Trump' 'Trump'\n",
      " 'Trump' 'Trump' 'Trump' 'Trump' 'Trump' 'Trump' 'Trump' 'Trump' 'Trump'\n",
      " 'Trump' 'Trump' 'Trump' 'Trump' 'Trump' 'Trump' 'Trump' 'Trump' 'Trump'\n",
      " 'Trump' 'Trump' 'Trump' 'Trump' 'Trump' 'Trump' 'Trump' 'Trump' 'Trump'\n",
      " 'Trump' 'Trump' 'Trump' 'Trump' 'Trump' 'Trump' 'Trump' 'Trump' 'Trump'\n",
      " 'Trump' 'Trump' 'Trump' 'Trump' 'Trump' 'Trump' 'Trump' 'Trump' 'Trump'\n",
      " 'Trump' 'Nixon' 'Trump' 'Nixon' 'Trump' 'Trump' 'Nixon' 'Nixon' 'Trump'\n",
      " 'Nixon' 'Trump' 'Trump' 'Nixon' 'Nixon' 'Nixon' 'Nixon' 'Nixon' 'Trump'\n",
      " 'Nixon' 'Trump' 'Nixon' 'Nixon' 'Nixon' 'Nixon' 'Nixon' 'Nixon' 'Nixon'\n",
      " 'Nixon' 'Nixon' 'Nixon' 'Trump' 'Nixon' 'Nixon' 'Nixon' 'Nixon' 'Nixon'\n",
      " 'Nixon']\n"
     ]
    }
   ],
   "source": [
    "all_predictions = trump_detect_model.predict(quote_tfidf)\n",
    "print(all_predictions)"
   ]
  },
  {
   "cell_type": "code",
   "execution_count": 20,
   "metadata": {},
   "outputs": [],
   "source": [
    "from sklearn.metrics import classification_report"
   ]
  },
  {
   "cell_type": "code",
   "execution_count": 21,
   "metadata": {},
   "outputs": [
    {
     "name": "stdout",
     "output_type": "stream",
     "text": [
      "             precision    recall  f1-score   support\n",
      "\n",
      "      Nixon       1.00      0.75      0.86        36\n",
      "      Trump       0.92      1.00      0.96       100\n",
      "\n",
      "avg / total       0.94      0.93      0.93       136\n",
      "\n"
     ]
    }
   ],
   "source": [
    "print(classification_report(df['president'], all_predictions))"
   ]
  },
  {
   "cell_type": "code",
   "execution_count": 22,
   "metadata": {},
   "outputs": [],
   "source": [
    "from sklearn.model_selection import train_test_split"
   ]
  },
  {
   "cell_type": "code",
   "execution_count": 23,
   "metadata": {},
   "outputs": [],
   "source": [
    "quote_train, quote_test, president_train, president_test = \\\n",
    "train_test_split(df['quote'], df['president'], test_size = 0.4, random_state = 101)"
   ]
  },
  {
   "cell_type": "code",
   "execution_count": 24,
   "metadata": {},
   "outputs": [
    {
     "name": "stdout",
     "output_type": "stream",
     "text": [
      "81 55 136\n"
     ]
    }
   ],
   "source": [
    "print(len(quote_train), len(quote_test), len(president_train) + len(president_test))"
   ]
  },
  {
   "cell_type": "code",
   "execution_count": 25,
   "metadata": {},
   "outputs": [],
   "source": [
    "from sklearn.pipeline import Pipeline"
   ]
  },
  {
   "cell_type": "code",
   "execution_count": 26,
   "metadata": {},
   "outputs": [],
   "source": [
    "pipeline = Pipeline([\n",
    "    ('bow', CountVectorizer(analyzer = text_process)),\n",
    "    ('tfidf', TfidfTransformer()),\n",
    "    ('classifier', MultinomialNB()),\n",
    "])"
   ]
  },
  {
   "cell_type": "code",
   "execution_count": 27,
   "metadata": {},
   "outputs": [
    {
     "data": {
      "text/plain": [
       "Pipeline(memory=None,\n",
       "     steps=[('bow', CountVectorizer(analyzer=<function text_process at 0x1179d2e18>, binary=False,\n",
       "        decode_error='strict', dtype=<class 'numpy.int64'>,\n",
       "        encoding='utf-8', input='content', lowercase=True, max_df=1.0,\n",
       "        max_features=None, min_df=1, ngram_range=(1, 1), preprocessor=None,...f=False, use_idf=True)), ('classifier', MultinomialNB(alpha=1.0, class_prior=None, fit_prior=True))])"
      ]
     },
     "execution_count": 27,
     "metadata": {},
     "output_type": "execute_result"
    }
   ],
   "source": [
    "pipeline.fit(quote_train, president_train)"
   ]
  },
  {
   "cell_type": "code",
   "execution_count": 28,
   "metadata": {},
   "outputs": [
    {
     "name": "stdout",
     "output_type": "stream",
     "text": [
      "             precision    recall  f1-score   support\n",
      "\n",
      "      Nixon       0.07      1.00      0.13         1\n",
      "      Trump       1.00      0.76      0.86        54\n",
      "\n",
      "avg / total       0.98      0.76      0.85        55\n",
      "\n"
     ]
    }
   ],
   "source": [
    "y_pred = pipeline.predict(quote_test)\n",
    "print(classification_report(y_pred, president_test))"
   ]
  }
 ],
 "metadata": {
  "kernelspec": {
   "display_name": "Python 3",
   "language": "python",
   "name": "python3"
  },
  "language_info": {
   "codemirror_mode": {
    "name": "ipython",
    "version": 3
   },
   "file_extension": ".py",
   "mimetype": "text/x-python",
   "name": "python",
   "nbconvert_exporter": "python",
   "pygments_lexer": "ipython3",
   "version": "3.6.4"
  }
 },
 "nbformat": 4,
 "nbformat_minor": 2
}
