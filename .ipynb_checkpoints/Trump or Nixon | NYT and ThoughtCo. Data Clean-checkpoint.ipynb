{
 "cells": [
  {
   "cell_type": "code",
   "execution_count": 1,
   "metadata": {},
   "outputs": [],
   "source": [
    "import pandas as pd\n",
    "import numpy as np"
   ]
  },
  {
   "cell_type": "code",
   "execution_count": 2,
   "metadata": {},
   "outputs": [],
   "source": [
    "df = pd.read_csv('trump_lies_original.csv', encoding = 'ISO-8859-1')"
   ]
  },
  {
   "cell_type": "code",
   "execution_count": 3,
   "metadata": {},
   "outputs": [],
   "source": [
    "df.columns = ['date', 'quote']"
   ]
  },
  {
   "cell_type": "code",
   "execution_count": 4,
   "metadata": {},
   "outputs": [],
   "source": [
    "df['date'] = pd.to_datetime(df['date'])"
   ]
  },
  {
   "cell_type": "code",
   "execution_count": 5,
   "metadata": {},
   "outputs": [],
   "source": [
    "df['quote'] = df['quote'].str.split('\"', expand = True)[1]\n",
    "df['explanation'] = df['quote'].str.split('ÓÊ', expand = True)[1]"
   ]
  },
  {
   "cell_type": "code",
   "execution_count": 6,
   "metadata": {},
   "outputs": [],
   "source": [
    "def fix_trump_punctuation(quote):\n",
    "    quote = str(quote).replace('Drumpf', \"Trump\")\n",
    "    quote = str(quote).replace('Ñ', '—')\n",
    "    quote = str(quote).replace('Ê', '')\n",
    "    quote = str(quote).replace('Õ', \"'\")\n",
    "    quote = str(quote).replace('Ó', \" \")\n",
    "    return quote\n",
    "\n",
    "df['quote'] = df['quote'].apply(fix_trump_punctuation)\n",
    "df['explanation'] = df['explanation'].apply(fix_trump_punctuation)"
   ]
  },
  {
   "cell_type": "code",
   "execution_count": 7,
   "metadata": {},
   "outputs": [
    {
     "data": {
      "text/html": [
       "<div>\n",
       "<style scoped>\n",
       "    .dataframe tbody tr th:only-of-type {\n",
       "        vertical-align: middle;\n",
       "    }\n",
       "\n",
       "    .dataframe tbody tr th {\n",
       "        vertical-align: top;\n",
       "    }\n",
       "\n",
       "    .dataframe thead th {\n",
       "        text-align: right;\n",
       "    }\n",
       "</style>\n",
       "<table border=\"1\" class=\"dataframe\">\n",
       "  <thead>\n",
       "    <tr style=\"text-align: right;\">\n",
       "      <th></th>\n",
       "      <th>date</th>\n",
       "      <th>quote</th>\n",
       "      <th>explanation</th>\n",
       "    </tr>\n",
       "  </thead>\n",
       "  <tbody>\n",
       "    <tr>\n",
       "      <th>0</th>\n",
       "      <td>2017-01-21</td>\n",
       "      <td>I wasn't a fan of Iraq. I didn't want to go in...</td>\n",
       "      <td>(He was for an invasion before he was against ...</td>\n",
       "    </tr>\n",
       "    <tr>\n",
       "      <th>1</th>\n",
       "      <td>2017-01-22</td>\n",
       "      <td>A reporter for Time magazine — and I have been...</td>\n",
       "      <td>(Trump was on the cover 11 times and Nixon app...</td>\n",
       "    </tr>\n",
       "    <tr>\n",
       "      <th>2</th>\n",
       "      <td>2017-01-23</td>\n",
       "      <td>Between 3 million and 5 million illegal votes ...</td>\n",
       "      <td>(There's no evidence of illegal voting.)</td>\n",
       "    </tr>\n",
       "    <tr>\n",
       "      <th>3</th>\n",
       "      <td>2017-01-25</td>\n",
       "      <td>Now, the audience was the biggest ever. But th...</td>\n",
       "      <td>(Official aerial photos show Obama's 2009 inau...</td>\n",
       "    </tr>\n",
       "    <tr>\n",
       "      <th>4</th>\n",
       "      <td>2017-01-25</td>\n",
       "      <td>Take a look at the Pew reports (which show vot...</td>\n",
       "      <td>(The report never mentioned voter fraud.)</td>\n",
       "    </tr>\n",
       "  </tbody>\n",
       "</table>\n",
       "</div>"
      ],
      "text/plain": [
       "        date                                              quote  \\\n",
       "0 2017-01-21  I wasn't a fan of Iraq. I didn't want to go in...   \n",
       "1 2017-01-22  A reporter for Time magazine — and I have been...   \n",
       "2 2017-01-23  Between 3 million and 5 million illegal votes ...   \n",
       "3 2017-01-25  Now, the audience was the biggest ever. But th...   \n",
       "4 2017-01-25  Take a look at the Pew reports (which show vot...   \n",
       "\n",
       "                                         explanation  \n",
       "0  (He was for an invasion before he was against ...  \n",
       "1  (Trump was on the cover 11 times and Nixon app...  \n",
       "2           (There's no evidence of illegal voting.)  \n",
       "3  (Official aerial photos show Obama's 2009 inau...  \n",
       "4          (The report never mentioned voter fraud.)  "
      ]
     },
     "execution_count": 7,
     "metadata": {},
     "output_type": "execute_result"
    }
   ],
   "source": [
    "df.head()"
   ]
  },
  {
   "cell_type": "code",
   "execution_count": 8,
   "metadata": {},
   "outputs": [
    {
     "name": "stdout",
     "output_type": "stream",
     "text": [
      "<class 'pandas.core.frame.DataFrame'>\n",
      "RangeIndex: 100 entries, 0 to 99\n",
      "Data columns (total 3 columns):\n",
      "date           100 non-null datetime64[ns]\n",
      "quote          100 non-null object\n",
      "explanation    100 non-null object\n",
      "dtypes: datetime64[ns](1), object(2)\n",
      "memory usage: 2.4+ KB\n"
     ]
    }
   ],
   "source": [
    "df.info()"
   ]
  },
  {
   "cell_type": "code",
   "execution_count": 9,
   "metadata": {},
   "outputs": [],
   "source": [
    "df.to_csv('trump_lies_clean.csv')"
   ]
  },
  {
   "cell_type": "code",
   "execution_count": 10,
   "metadata": {},
   "outputs": [],
   "source": [
    "df2 = pd.read_csv('nixon_quotes_original.csv', encoding = 'ISO-8859-1')"
   ]
  },
  {
   "cell_type": "code",
   "execution_count": 11,
   "metadata": {},
   "outputs": [],
   "source": [
    "def fix_nixon_punctuation(quote):\n",
    "    quote = str(quote).replace('Ê', ' ')\n",
    "    quote = str(quote).replace('Ñ', '–')\n",
    "    quote = str(quote).replace('Ð', '–')\n",
    "    quote = str(quote).replace('É', ' ')\n",
    "    quote = str(quote).replace(\"\\'\\'\", '\"')\n",
    "    quote = str(quote).replace(\"--\", '–')\n",
    "    quote = str(quote).replace('\"–', '\" –')\n",
    "    quote = str(quote).replace(' -', '\" –')\n",
    "    return quote\n",
    "\n",
    "df2['quote'] = df2['quote'].apply(fix_nixon_punctuation)\n",
    "df2['explanation'] = df2['quote'].str.split(' –', expand = True)[1]\n",
    "df2['quote'] = df2['quote'].str.split(' –', expand = True)"
   ]
  },
  {
   "cell_type": "code",
   "execution_count": 12,
   "metadata": {},
   "outputs": [
    {
     "data": {
      "text/plain": [
       "date                                         2017-01-21 00:00:00\n",
       "quote          I wasn't a fan of Iraq. I didn't want to go in...\n",
       "explanation    (He was for an invasion before he was against ...\n",
       "Name: 0, dtype: object"
      ]
     },
     "execution_count": 12,
     "metadata": {},
     "output_type": "execute_result"
    }
   ],
   "source": [
    "df.loc[0]"
   ]
  },
  {
   "cell_type": "code",
   "execution_count": 13,
   "metadata": {},
   "outputs": [],
   "source": [
    "n = 0\n",
    "for explanation in df2['explanation']:\n",
    "    if df2.loc[n, 'explanation'] == None:\n",
    "        df2.drop(n, axis = 0, inplace = True)\n",
    "        n += 1\n",
    "    else:\n",
    "        n+= 1"
   ]
  },
  {
   "cell_type": "code",
   "execution_count": 14,
   "metadata": {},
   "outputs": [
    {
     "data": {
      "text/html": [
       "<div>\n",
       "<style scoped>\n",
       "    .dataframe tbody tr th:only-of-type {\n",
       "        vertical-align: middle;\n",
       "    }\n",
       "\n",
       "    .dataframe tbody tr th {\n",
       "        vertical-align: top;\n",
       "    }\n",
       "\n",
       "    .dataframe thead th {\n",
       "        text-align: right;\n",
       "    }\n",
       "</style>\n",
       "<table border=\"1\" class=\"dataframe\">\n",
       "  <thead>\n",
       "    <tr style=\"text-align: right;\">\n",
       "      <th></th>\n",
       "      <th>quote</th>\n",
       "      <th>explanation</th>\n",
       "    </tr>\n",
       "  </thead>\n",
       "  <tbody>\n",
       "    <tr>\n",
       "      <th>0</th>\n",
       "      <td>\"I would have made a good Pope.\"</td>\n",
       "      <td>President Richard Nixon</td>\n",
       "    </tr>\n",
       "    <tr>\n",
       "      <th>1</th>\n",
       "      <td>\"When the President does it, that means it's n...</td>\n",
       "      <td>President Richard Nixon, in a 1977 interview w...</td>\n",
       "    </tr>\n",
       "    <tr>\n",
       "      <th>2</th>\n",
       "      <td>\"Well, did you do any fornicating this weekend?\"</td>\n",
       "      <td>Richard Nixon to David Frost before a 1977 int...</td>\n",
       "    </tr>\n",
       "    <tr>\n",
       "      <th>3</th>\n",
       "      <td>\"You don't know how to lie. If you can't lie, ...</td>\n",
       "      <td>President Richard Nixon, giving advice to a po...</td>\n",
       "    </tr>\n",
       "    <tr>\n",
       "      <th>4</th>\n",
       "      <td>\"I was not lying. I said things that later on ...</td>\n",
       "      <td>President Richard Nixon, reflecting on the Wa...</td>\n",
       "    </tr>\n",
       "  </tbody>\n",
       "</table>\n",
       "</div>"
      ],
      "text/plain": [
       "                                               quote  \\\n",
       "0                   \"I would have made a good Pope.\"   \n",
       "1  \"When the President does it, that means it's n...   \n",
       "2   \"Well, did you do any fornicating this weekend?\"   \n",
       "3  \"You don't know how to lie. If you can't lie, ...   \n",
       "4  \"I was not lying. I said things that later on ...   \n",
       "\n",
       "                                         explanation  \n",
       "0                           President Richard Nixon   \n",
       "1  President Richard Nixon, in a 1977 interview w...  \n",
       "2  Richard Nixon to David Frost before a 1977 int...  \n",
       "3  President Richard Nixon, giving advice to a po...  \n",
       "4   President Richard Nixon, reflecting on the Wa...  "
      ]
     },
     "execution_count": 14,
     "metadata": {},
     "output_type": "execute_result"
    }
   ],
   "source": [
    "df2 = df2.reset_index(drop = True)\n",
    "df2.head()"
   ]
  },
  {
   "cell_type": "code",
   "execution_count": 15,
   "metadata": {},
   "outputs": [],
   "source": [
    "df2.to_csv('nixon_quotes_clean.csv')"
   ]
  }
 ],
 "metadata": {
  "kernelspec": {
   "display_name": "Python 3",
   "language": "python",
   "name": "python3"
  },
  "language_info": {
   "codemirror_mode": {
    "name": "ipython",
    "version": 3
   },
   "file_extension": ".py",
   "mimetype": "text/x-python",
   "name": "python",
   "nbconvert_exporter": "python",
   "pygments_lexer": "ipython3",
   "version": "3.6.4"
  }
 },
 "nbformat": 4,
 "nbformat_minor": 2
}
